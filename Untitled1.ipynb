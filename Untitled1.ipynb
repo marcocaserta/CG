{
  "nbformat": 4,
  "nbformat_minor": 0,
  "metadata": {
    "colab": {
      "name": "Untitled1.ipynb",
      "provenance": [],
      "authorship_tag": "ABX9TyONH06DJ581U5gaRn0+cjdW",
      "include_colab_link": true
    },
    "kernelspec": {
      "name": "python3",
      "display_name": "Python 3"
    }
  },
  "cells": [
    {
      "cell_type": "markdown",
      "metadata": {
        "id": "view-in-github",
        "colab_type": "text"
      },
      "source": [
        "<a href=\"https://colab.research.google.com/github/marcocaserta/CG/blob/main/Untitled1.ipynb\" target=\"_parent\"><img src=\"https://colab.research.google.com/assets/colab-badge.svg\" alt=\"Open In Colab\"/></a>"
      ]
    },
    {
      "cell_type": "markdown",
      "metadata": {
        "id": "W6ICtUWNRasq"
      },
      "source": [
        "## Team Size Distribution per Project"
      ]
    },
    {
      "cell_type": "code",
      "metadata": {
        "id": "Xq6_Mf7Kt1CN",
        "outputId": "f77650eb-479f-4c1c-f3aa-8d6227caa3cc",
        "colab": {
          "base_uri": "https://localhost:8080/"
        }
      },
      "source": [
        "print(\"Initial shape = \", df.shape)\n",
        "print(\"After removing projects of type 'IN' = \", df[df['CODTIPOPROYECTO'] != 'IN '].shape)\n",
        "df = df[df['CODTIPOPROYECTO'] != 'IN ']"
      ],
      "execution_count": null,
      "outputs": [
        {
          "output_type": "stream",
          "text": [
            "Initial shape =  (185779, 10)\n",
            "After removing projects of type 'IN' =  (133465, 10)\n"
          ],
          "name": "stdout"
        }
      ]
    },
    {
      "cell_type": "code",
      "metadata": {
        "id": "8EppDdZlBa5i",
        "outputId": "da1126e6-285c-4acb-cce2-e9585d7c228b",
        "colab": {
          "base_uri": "https://localhost:8080/",
          "height": 137
        }
      },
      "source": [
        "dfTeam = pd.DataFrame(df.groupby('CODPROYECTO')['hash code'].nunique())\n",
        "dfTeam.reset_index(level=0, inplace=True)\n",
        "dfTeam.head(3)"
      ],
      "execution_count": null,
      "outputs": [
        {
          "output_type": "execute_result",
          "data": {
            "text/html": [
              "<div>\n",
              "<style scoped>\n",
              "    .dataframe tbody tr th:only-of-type {\n",
              "        vertical-align: middle;\n",
              "    }\n",
              "\n",
              "    .dataframe tbody tr th {\n",
              "        vertical-align: top;\n",
              "    }\n",
              "\n",
              "    .dataframe thead th {\n",
              "        text-align: right;\n",
              "    }\n",
              "</style>\n",
              "<table border=\"1\" class=\"dataframe\">\n",
              "  <thead>\n",
              "    <tr style=\"text-align: right;\">\n",
              "      <th></th>\n",
              "      <th>CODPROYECTO</th>\n",
              "      <th>hash code</th>\n",
              "    </tr>\n",
              "  </thead>\n",
              "  <tbody>\n",
              "    <tr>\n",
              "      <th>0</th>\n",
              "      <td>100056582</td>\n",
              "      <td>3</td>\n",
              "    </tr>\n",
              "    <tr>\n",
              "      <th>1</th>\n",
              "      <td>100056753</td>\n",
              "      <td>3</td>\n",
              "    </tr>\n",
              "    <tr>\n",
              "      <th>2</th>\n",
              "      <td>100056913</td>\n",
              "      <td>2</td>\n",
              "    </tr>\n",
              "  </tbody>\n",
              "</table>\n",
              "</div>"
            ],
            "text/plain": [
              "  CODPROYECTO  hash code\n",
              "0   100056582          3\n",
              "1   100056753          3\n",
              "2   100056913          2"
            ]
          },
          "metadata": {
            "tags": []
          },
          "execution_count": 44
        }
      ]
    },
    {
      "cell_type": "code",
      "metadata": {
        "id": "oeMi8LoWK2-b",
        "cellView": "form",
        "outputId": "5cc746ba-e8ec-4f93-8fdf-35d0ac71b601",
        "colab": {
          "base_uri": "https://localhost:8080/",
          "height": 1423
        }
      },
      "source": [
        "#@title Distribution Team Size per Project\n",
        "plt.figure(figsize=(15,7))\n",
        "\n",
        "print(\"Total Nr. of Projects : {}.\".format(dfTeam.shape[0]))\n",
        "low_bin = 1\n",
        "high_bin = 11\n",
        "step = 1\n",
        "print(\"Col 1: Nr. of Unique Hash in a given Project-Year.\")\n",
        "print(\"Col 2: Frequence. of Project Year with That Many Unique Hash.\")\n",
        "print(\"=\"*80)\n",
        "labs = [\"<=\" + str(low_bin)] + [str(i) for i in np.arange(low_bin+1, high_bin, step)] + ['more']\n",
        "bins = np.append(np.arange(low_bin-1,high_bin, step), max(dfTeam['hash code']+1))\n",
        "dfTeam['range'] = pd.cut(dfTeam['hash code'], bins, labels=labs)\n",
        "tt = pd.DataFrame(dfTeam.groupby('range')['range'].count())\n",
        "display(HTML(tt.to_html()))\n",
        "tt = tt.iloc[:-1,]\n",
        "plt.bar(x=tt.index, height=tt['range'])\n",
        "title = \"Distribution Team Size\"\n",
        "plt.title(title)\n",
        "plt.xticks(rotation=45)\n",
        "\n",
        "dfAux = dfTeam\n",
        "\n",
        "low_bin = 10\n",
        "high_bin = 101\n",
        "step = 10\n",
        "labs = ['<=' + str(low_bin)] + [str(i+1)+\"-\"+str(i+step) for i in np.arange(low_bin, high_bin-step, step)] + ['more']\n",
        "bins = np.append(0, np.append(np.arange(low_bin,high_bin, step), max(dfAux['hash code']+1)))\n",
        "dfAux['range'] = pd.cut(dfAux['hash code'], bins, labels=labs)\n",
        "tt = pd.DataFrame(dfAux.groupby('range')['range'].count())\n",
        "display(HTML(tt.to_html()))\n",
        "tt = tt.iloc[1:-1,]\n",
        "plt.bar(x=tt.index, height=tt['range'])\n",
        "\n",
        "low_bin = 100\n",
        "high_bin = 600\n",
        "step = 100\n",
        "labs = ['<=' + str(low_bin)] + [str(i+1)+\"-\"+str(i+step) for i in np.arange(low_bin, high_bin-step, step)] + ['more']\n",
        "bins = np.append(0, np.append(np.arange(low_bin,high_bin, step), max(dfAux['hash code']+1)))\n",
        "dfAux['range'] = pd.cut(dfAux['hash code'], bins, labels=labs)\n",
        "tt = pd.DataFrame(dfAux.groupby('range')['range'].count())\n",
        "display(HTML(tt.to_html()))\n",
        "tt = tt.iloc[1:,]\n",
        "plt.bar(x=tt.index, height=tt['range']);\n"
      ],
      "execution_count": null,
      "outputs": [
        {
          "output_type": "stream",
          "text": [
            "Total Nr. of Projects : 7013.\n",
            "Col 1: Nr. of Unique Hash in a given Project-Year.\n",
            "Col 2: Frequence. of Project Year with That Many Unique Hash.\n",
            "================================================================================\n"
          ],
          "name": "stdout"
        },
        {
          "output_type": "display_data",
          "data": {
            "text/html": [
              "<table border=\"1\" class=\"dataframe\">\n",
              "  <thead>\n",
              "    <tr style=\"text-align: right;\">\n",
              "      <th></th>\n",
              "      <th>range</th>\n",
              "    </tr>\n",
              "    <tr>\n",
              "      <th>range</th>\n",
              "      <th></th>\n",
              "    </tr>\n",
              "  </thead>\n",
              "  <tbody>\n",
              "    <tr>\n",
              "      <th>&lt;=1</th>\n",
              "      <td>1066</td>\n",
              "    </tr>\n",
              "    <tr>\n",
              "      <th>2</th>\n",
              "      <td>851</td>\n",
              "    </tr>\n",
              "    <tr>\n",
              "      <th>3</th>\n",
              "      <td>679</td>\n",
              "    </tr>\n",
              "    <tr>\n",
              "      <th>4</th>\n",
              "      <td>520</td>\n",
              "    </tr>\n",
              "    <tr>\n",
              "      <th>5</th>\n",
              "      <td>432</td>\n",
              "    </tr>\n",
              "    <tr>\n",
              "      <th>6</th>\n",
              "      <td>355</td>\n",
              "    </tr>\n",
              "    <tr>\n",
              "      <th>7</th>\n",
              "      <td>269</td>\n",
              "    </tr>\n",
              "    <tr>\n",
              "      <th>8</th>\n",
              "      <td>230</td>\n",
              "    </tr>\n",
              "    <tr>\n",
              "      <th>9</th>\n",
              "      <td>187</td>\n",
              "    </tr>\n",
              "    <tr>\n",
              "      <th>10</th>\n",
              "      <td>166</td>\n",
              "    </tr>\n",
              "    <tr>\n",
              "      <th>more</th>\n",
              "      <td>2258</td>\n",
              "    </tr>\n",
              "  </tbody>\n",
              "</table>"
            ],
            "text/plain": [
              "<IPython.core.display.HTML object>"
            ]
          },
          "metadata": {
            "tags": []
          }
        },
        {
          "output_type": "display_data",
          "data": {
            "text/html": [
              "<table border=\"1\" class=\"dataframe\">\n",
              "  <thead>\n",
              "    <tr style=\"text-align: right;\">\n",
              "      <th></th>\n",
              "      <th>range</th>\n",
              "    </tr>\n",
              "    <tr>\n",
              "      <th>range</th>\n",
              "      <th></th>\n",
              "    </tr>\n",
              "  </thead>\n",
              "  <tbody>\n",
              "    <tr>\n",
              "      <th>&lt;=10</th>\n",
              "      <td>4755</td>\n",
              "    </tr>\n",
              "    <tr>\n",
              "      <th>11-20</th>\n",
              "      <td>1011</td>\n",
              "    </tr>\n",
              "    <tr>\n",
              "      <th>21-30</th>\n",
              "      <td>491</td>\n",
              "    </tr>\n",
              "    <tr>\n",
              "      <th>31-40</th>\n",
              "      <td>247</td>\n",
              "    </tr>\n",
              "    <tr>\n",
              "      <th>41-50</th>\n",
              "      <td>136</td>\n",
              "    </tr>\n",
              "    <tr>\n",
              "      <th>51-60</th>\n",
              "      <td>99</td>\n",
              "    </tr>\n",
              "    <tr>\n",
              "      <th>61-70</th>\n",
              "      <td>56</td>\n",
              "    </tr>\n",
              "    <tr>\n",
              "      <th>71-80</th>\n",
              "      <td>51</td>\n",
              "    </tr>\n",
              "    <tr>\n",
              "      <th>81-90</th>\n",
              "      <td>34</td>\n",
              "    </tr>\n",
              "    <tr>\n",
              "      <th>91-100</th>\n",
              "      <td>21</td>\n",
              "    </tr>\n",
              "    <tr>\n",
              "      <th>more</th>\n",
              "      <td>112</td>\n",
              "    </tr>\n",
              "  </tbody>\n",
              "</table>"
            ],
            "text/plain": [
              "<IPython.core.display.HTML object>"
            ]
          },
          "metadata": {
            "tags": []
          }
        },
        {
          "output_type": "display_data",
          "data": {
            "text/html": [
              "<table border=\"1\" class=\"dataframe\">\n",
              "  <thead>\n",
              "    <tr style=\"text-align: right;\">\n",
              "      <th></th>\n",
              "      <th>range</th>\n",
              "    </tr>\n",
              "    <tr>\n",
              "      <th>range</th>\n",
              "      <th></th>\n",
              "    </tr>\n",
              "  </thead>\n",
              "  <tbody>\n",
              "    <tr>\n",
              "      <th>&lt;=100</th>\n",
              "      <td>6901</td>\n",
              "    </tr>\n",
              "    <tr>\n",
              "      <th>101-200</th>\n",
              "      <td>63</td>\n",
              "    </tr>\n",
              "    <tr>\n",
              "      <th>201-300</th>\n",
              "      <td>26</td>\n",
              "    </tr>\n",
              "    <tr>\n",
              "      <th>301-400</th>\n",
              "      <td>9</td>\n",
              "    </tr>\n",
              "    <tr>\n",
              "      <th>401-500</th>\n",
              "      <td>7</td>\n",
              "    </tr>\n",
              "    <tr>\n",
              "      <th>more</th>\n",
              "      <td>7</td>\n",
              "    </tr>\n",
              "  </tbody>\n",
              "</table>"
            ],
            "text/plain": [
              "<IPython.core.display.HTML object>"
            ]
          },
          "metadata": {
            "tags": []
          }
        },
        {
          "output_type": "display_data",
          "data": {
            "image/png": "[encoded data removed]",
            "text/plain": [
              "<Figure size 1080x504 with 1 Axes>"
            ]
          },
          "metadata": {
            "tags": [],
            "needs_background": "light"
          }
        }
      ]
    },
    {
      "cell_type": "markdown",
      "metadata": {
        "id": "5fAkYfxvcvN4"
      },
      "source": [
        "## Distribution Team Size for Proyect-Year"
      ]
    },
    {
      "cell_type": "code",
      "metadata": {
        "id": "fBQwGwJhMMCu",
        "cellView": "form",
        "outputId": "146fa7a0-ca38-42bc-f71e-e74fd8093ece",
        "colab": {
          "base_uri": "https://localhost:8080/",
          "height": 1490
        }
      },
      "source": [
        "#@title Distribution Team Size per Project-Year\n",
        "dfTeamYear = pd.DataFrame(df.groupby(['CODPROYECTO', 'ANIO'])['hash code'].nunique())\n",
        "dfTeamYear.reset_index(level=[0,1], inplace=True)\n",
        "\n",
        "dfAux = dfTeamYear\n",
        "\n",
        "plt.figure(figsize=(15,7))\n",
        "\n",
        "print(\"Total Nr. of Project-Year : {}.\".format(dfAux.shape[0]))\n",
        "low_bin = 1\n",
        "high_bin = 11\n",
        "step = 1\n",
        "print(\"Col 1: Nr. of Unique Hash in a given Project-Year.\")\n",
        "print(\"Col 2: Frequence. of Project Year with That Many Unique Hash.\")\n",
        "print(\"=\"*80)\n",
        "labs = [\"<=\" + str(low_bin)] + [str(i) for i in np.arange(low_bin+1, high_bin, step)] + ['more']\n",
        "bins = np.append(np.arange(low_bin-1,high_bin, step), max(dfAux['hash code']+1))\n",
        "dfAux['range'] = pd.cut(dfAux['hash code'], bins, labels=labs)\n",
        "tt = pd.DataFrame(dfAux.groupby('range')['range'].count())\n",
        "display(HTML(tt.to_html()))\n",
        "tt = tt.iloc[:-1,]\n",
        "plt.bar(x=tt.index, height=tt['range'])\n",
        "title = \"Distribution Team Size (Proyect-Year)\"\n",
        "plt.title(title)\n",
        "plt.xticks(rotation=45)\n",
        "\n",
        "\n",
        "low_bin = 10\n",
        "high_bin = 101\n",
        "step = 10\n",
        "labs = ['<=' + str(low_bin)] + [str(i+1)+\"-\"+str(i+step) for i in np.arange(low_bin, high_bin-step, step)] + ['more']\n",
        "bins = np.append(0, np.append(np.arange(low_bin,high_bin, step), max(dfAux['hash code']+1)))\n",
        "dfAux['range'] = pd.cut(dfAux['hash code'], bins, labels=labs)\n",
        "tt = pd.DataFrame(dfAux.groupby('range')['range'].count())\n",
        "display(HTML(tt.to_html()))\n",
        "tt = tt.iloc[1:-1,]\n",
        "plt.bar(x=tt.index, height=tt['range'])\n",
        "\n",
        "low_bin = 100\n",
        "high_bin = 600\n",
        "step = 100\n",
        "labs = ['<=' + str(low_bin)] + [str(i+1)+\"-\"+str(i+step) for i in np.arange(low_bin, high_bin-step, step)] + ['more']\n",
        "bins = np.append(0, np.append(np.arange(low_bin,high_bin, step), max(dfAux['hash code']+1)))\n",
        "dfAux['range'] = pd.cut(dfAux['hash code'], bins, labels=labs)\n",
        "tt = pd.DataFrame(dfAux.groupby('range')['range'].count())\n",
        "display(HTML(tt.to_html()))\n",
        "tt = tt.iloc[1:,]\n",
        "plt.bar(x=tt.index, height=tt['range']);"
      ],
      "execution_count": null,
      "outputs": [
        {
          "output_type": "stream",
          "text": [
            "Total Nr. of Project-Year : 11311.\n",
            "Col 1: Nr. of Unique Hash in a given Project-Year.\n",
            "Col 2: Frequence. of Project Year with That Many Unique Hash.\n",
            "================================================================================\n"
          ],
          "name": "stdout"
        },
        {
          "output_type": "display_data",
          "data": {
            "text/html": [
              "<table border=\"1\" class=\"dataframe\">\n",
              "  <thead>\n",
              "    <tr style=\"text-align: right;\">\n",
              "      <th></th>\n",
              "      <th>range</th>\n",
              "    </tr>\n",
              "    <tr>\n",
              "      <th>range</th>\n",
              "      <th></th>\n",
              "    </tr>\n",
              "  </thead>\n",
              "  <tbody>\n",
              "    <tr>\n",
              "      <th>&lt;=1</th>\n",
              "      <td>2254</td>\n",
              "    </tr>\n",
              "    <tr>\n",
              "      <th>2</th>\n",
              "      <td>1558</td>\n",
              "    </tr>\n",
              "    <tr>\n",
              "      <th>3</th>\n",
              "      <td>1121</td>\n",
              "    </tr>\n",
              "    <tr>\n",
              "      <th>4</th>\n",
              "      <td>878</td>\n",
              "    </tr>\n",
              "    <tr>\n",
              "      <th>5</th>\n",
              "      <td>655</td>\n",
              "    </tr>\n",
              "    <tr>\n",
              "      <th>6</th>\n",
              "      <td>551</td>\n",
              "    </tr>\n",
              "    <tr>\n",
              "      <th>7</th>\n",
              "      <td>442</td>\n",
              "    </tr>\n",
              "    <tr>\n",
              "      <th>8</th>\n",
              "      <td>338</td>\n",
              "    </tr>\n",
              "    <tr>\n",
              "      <th>9</th>\n",
              "      <td>300</td>\n",
              "    </tr>\n",
              "    <tr>\n",
              "      <th>10</th>\n",
              "      <td>244</td>\n",
              "    </tr>\n",
              "    <tr>\n",
              "      <th>more</th>\n",
              "      <td>2970</td>\n",
              "    </tr>\n",
              "  </tbody>\n",
              "</table>"
            ],
            "text/plain": [
              "<IPython.core.display.HTML object>"
            ]
          },
          "metadata": {
            "tags": []
          }
        },
        {
          "output_type": "display_data",
          "data": {
            "text/html": [
              "<table border=\"1\" class=\"dataframe\">\n",
              "  <thead>\n",
              "    <tr style=\"text-align: right;\">\n",
              "      <th></th>\n",
              "      <th>range</th>\n",
              "    </tr>\n",
              "    <tr>\n",
              "      <th>range</th>\n",
              "      <th></th>\n",
              "    </tr>\n",
              "  </thead>\n",
              "  <tbody>\n",
              "    <tr>\n",
              "      <th>&lt;=10</th>\n",
              "      <td>8341</td>\n",
              "    </tr>\n",
              "    <tr>\n",
              "      <th>11-20</th>\n",
              "      <td>1453</td>\n",
              "    </tr>\n",
              "    <tr>\n",
              "      <th>21-30</th>\n",
              "      <td>617</td>\n",
              "    </tr>\n",
              "    <tr>\n",
              "      <th>31-40</th>\n",
              "      <td>315</td>\n",
              "    </tr>\n",
              "    <tr>\n",
              "      <th>41-50</th>\n",
              "      <td>172</td>\n",
              "    </tr>\n",
              "    <tr>\n",
              "      <th>51-60</th>\n",
              "      <td>109</td>\n",
              "    </tr>\n",
              "    <tr>\n",
              "      <th>61-70</th>\n",
              "      <td>67</td>\n",
              "    </tr>\n",
              "    <tr>\n",
              "      <th>71-80</th>\n",
              "      <td>51</td>\n",
              "    </tr>\n",
              "    <tr>\n",
              "      <th>81-90</th>\n",
              "      <td>33</td>\n",
              "    </tr>\n",
              "    <tr>\n",
              "      <th>91-100</th>\n",
              "      <td>23</td>\n",
              "    </tr>\n",
              "    <tr>\n",
              "      <th>more</th>\n",
              "      <td>130</td>\n",
              "    </tr>\n",
              "  </tbody>\n",
              "</table>"
            ],
            "text/plain": [
              "<IPython.core.display.HTML object>"
            ]
          },
          "metadata": {
            "tags": []
          }
        },
        {
          "output_type": "display_data",
          "data": {
            "text/html": [
              "<table border=\"1\" class=\"dataframe\">\n",
              "  <thead>\n",
              "    <tr style=\"text-align: right;\">\n",
              "      <th></th>\n",
              "      <th>range</th>\n",
              "    </tr>\n",
              "    <tr>\n",
              "      <th>range</th>\n",
              "      <th></th>\n",
              "    </tr>\n",
              "  </thead>\n",
              "  <tbody>\n",
              "    <tr>\n",
              "      <th>&lt;=100</th>\n",
              "      <td>11181</td>\n",
              "    </tr>\n",
              "    <tr>\n",
              "      <th>101-200</th>\n",
              "      <td>73</td>\n",
              "    </tr>\n",
              "    <tr>\n",
              "      <th>201-300</th>\n",
              "      <td>33</td>\n",
              "    </tr>\n",
              "    <tr>\n",
              "      <th>301-400</th>\n",
              "      <td>11</td>\n",
              "    </tr>\n",
              "    <tr>\n",
              "      <th>401-500</th>\n",
              "      <td>8</td>\n",
              "    </tr>\n",
              "    <tr>\n",
              "      <th>more</th>\n",
              "      <td>5</td>\n",
              "    </tr>\n",
              "  </tbody>\n",
              "</table>"
            ],
            "text/plain": [
              "<IPython.core.display.HTML object>"
            ]
          },
          "metadata": {
            "tags": []
          }
        },
        {
          "output_type": "display_data",
          "data": {
            "image/png": "[encoded data removed]",
            "text/plain": [
              "<Figure size 1080x504 with 1 Axes>"
            ]
          },
          "metadata": {
            "tags": [],
            "needs_background": "light"
          }
        }
      ]
    }
  ]
}